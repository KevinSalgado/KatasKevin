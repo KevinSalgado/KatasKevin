{
 "cells": [
  {
   "cell_type": "markdown",
   "metadata": {},
   "source": [
    "Ejercicio 1"
   ]
  },
  {
   "cell_type": "code",
   "execution_count": 6,
   "metadata": {},
   "outputs": [
    {
     "name": "stdout",
     "output_type": "stream",
     "text": [
      "¡Alerta! ¡Un asteroide se acerca a velocidades peligrosas!\n"
     ]
    }
   ],
   "source": [
    "asteroide = 49\n",
    "if asteroide > 25:\n",
    "    print('¡Alerta! ¡Un asteroide se acerca a velocidades peligrosas!')\n",
    "else:\n",
    "    print('¡Sigue con tu día!')"
   ]
  },
  {
   "cell_type": "markdown",
   "metadata": {},
   "source": [
    "Ejercicio 2"
   ]
  },
  {
   "cell_type": "code",
   "execution_count": 5,
   "metadata": {},
   "outputs": [
    {
     "name": "stdout",
     "output_type": "stream",
     "text": [
      "ADVERTENCIA, NO SE VERA UN ARO DE LUZ EN EL CIELO\n"
     ]
    }
   ],
   "source": [
    "VelAsteroide=49\n",
    "VelAtmosfera=19\n",
    "if VelAsteroide>25:\n",
    "    if VelAtmosfera>=20:\n",
    "        print(\"ADVERTENCIA, SE VERA UN ARO DE LUZ POR ASTEROIDE\")\n",
    "    else:\n",
    "        print(\"ADVERTENCIA, NO SE VERA UN ARO DE LUZ EN EL CIELO\")\n",
    "else:\n",
    "    print(\"Todo bien, continue con su dia\")\n",
    "\n"
   ]
  },
  {
   "cell_type": "markdown",
   "metadata": {},
   "source": [
    "Ejercicio 3"
   ]
  },
  {
   "cell_type": "code",
   "execution_count": 10,
   "metadata": {},
   "outputs": [
    {
     "name": "stdout",
     "output_type": "stream",
     "text": [
      "ALERTA, SE ACERCA UN ASTEROIDE\n"
     ]
    }
   ],
   "source": [
    "VelAsteroide=26\n",
    "VelAtmosfera=19\n",
    "tamano=40\n",
    "if VelAsteroide > 25 and tamano >25:\n",
    "    print(\"ALERTA, SE ACERCA UN ASTEROIDE\")\n",
    "elif VelAsteroide >= 20:\n",
    "    print(\"UN ARO DE LUZ EN EL CIELO\")\n",
    "else:\n",
    "    print(\"NO HAY NADA QUE VER\")\n"
   ]
  }
 ],
 "metadata": {
  "interpreter": {
   "hash": "43a265a97f9b8d1a70f2d84af00138063afd550e5c782f36aaeba0f16d129512"
  },
  "kernelspec": {
   "display_name": "Python 3.10.2 64-bit",
   "language": "python",
   "name": "python3"
  },
  "language_info": {
   "codemirror_mode": {
    "name": "ipython",
    "version": 3
   },
   "file_extension": ".py",
   "mimetype": "text/x-python",
   "name": "python",
   "nbconvert_exporter": "python",
   "pygments_lexer": "ipython3",
   "version": "3.10.2"
  },
  "orig_nbformat": 4
 },
 "nbformat": 4,
 "nbformat_minor": 2
}
