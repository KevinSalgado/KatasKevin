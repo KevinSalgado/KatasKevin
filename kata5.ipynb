{
 "cells": [
  {
   "cell_type": "markdown",
   "metadata": {},
   "source": [
    "Ejercicio 1"
   ]
  },
  {
   "cell_type": "code",
   "execution_count": 5,
   "metadata": {},
   "outputs": [
    {
     "name": "stdout",
     "output_type": "stream",
     "text": [
      "628949330 km\n",
      "390577533.93 millas\n"
     ]
    }
   ],
   "source": [
    "tierra=149597870 #km\n",
    "jupiter=778547200 #km\n",
    "distancia=jupiter-tierra\n",
    "print(f\"{distancia} km\")\n",
    "print(f\"{distancia*.621} millas\")\n"
   ]
  },
  {
   "cell_type": "markdown",
   "metadata": {},
   "source": [
    "Ejercicio 2"
   ]
  },
  {
   "cell_type": "code",
   "execution_count": 3,
   "metadata": {},
   "outputs": [
    {
     "name": "stdout",
     "output_type": "stream",
     "text": [
      "Calculador de distancias entre planetas\n",
      "6 km\n",
      "3.726 millas\n"
     ]
    }
   ],
   "source": [
    "print(\"Calculador de distancias entre planetas\")\n",
    "p1=input(\"Dame el valor del primero\")\n",
    "p2=input(\"Dame el valor del segundo\")\n",
    "p1=int(p1)\n",
    "p2=int(p2)\n",
    "distancia=abs(p1-p2)\n",
    "print(f\"{distancia} km\")\n",
    "print(f\"{abs(distancia*.621)} millas\")"
   ]
  }
 ],
 "metadata": {
  "interpreter": {
   "hash": "2f2e751d595f4060fa4c3a1865b043c203f9dc943af51265bdaa3bce2fe42830"
  },
  "kernelspec": {
   "display_name": "Python 3.10.2 64-bit (windows store)",
   "language": "python",
   "name": "python3"
  },
  "language_info": {
   "codemirror_mode": {
    "name": "ipython",
    "version": 3
   },
   "file_extension": ".py",
   "mimetype": "text/x-python",
   "name": "python",
   "nbconvert_exporter": "python",
   "pygments_lexer": "ipython3",
   "version": "3.10.2"
  },
  "orig_nbformat": 4
 },
 "nbformat": 4,
 "nbformat_minor": 2
}
