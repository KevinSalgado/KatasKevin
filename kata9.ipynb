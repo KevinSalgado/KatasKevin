{
 "cells": [
  {
   "cell_type": "markdown",
   "metadata": {},
   "source": [
    "## Ejercicio 1"
   ]
  },
  {
   "cell_type": "code",
   "execution_count": 4,
   "metadata": {},
   "outputs": [
    {
     "name": "stdout",
     "output_type": "stream",
     "text": [
      "Lectura de gasolina de tanques\n",
      "Promedio= 80.0\n",
      " Main tank= 70% \n",
      " External tank= 80%\n",
      " Hydrogen tank= 90%\n"
     ]
    }
   ],
   "source": [
    "print(\"Lectura de gasolina de tanques\")\n",
    "main=input('Introduce el porcentaje de la gasolina principal')\n",
    "external=input('Introduce el porcentaje de la gasolina externa')\n",
    "hydrogen=input('Introduce el hidrogeno')\n",
    "\n",
    "def rocket_gas(main,external,hydrogen):\n",
    "    prom=(int(main)+int(external)+int(hydrogen))/3\n",
    "    return prom\n",
    "\n",
    "def informe(main,external,hydrogen):\n",
    "    print(f\"Promedio= {rocket_gas(main,external,hydrogen)}\\n Main tank= {main}% \\n External tank= {external}%\\n Hydrogen tank= {hydrogen}%\")\n",
    "\n",
    "informe(main,external,hydrogen)"
   ]
  },
  {
   "cell_type": "markdown",
   "metadata": {},
   "source": [
    "## Ejercicio 2"
   ]
  },
  {
   "cell_type": "code",
   "execution_count": 5,
   "metadata": {},
   "outputs": [
    {
     "name": "stdout",
     "output_type": "stream",
     "text": [
      "Hora prelanzamiento= 13:40\n",
      "Tiempo de vuelo= 2 days\n",
      "Destino= moon\n",
      "Tanque externo= 80\n",
      "Tanque interno= 90\n"
     ]
    }
   ],
   "source": [
    "def informe_mision(hora_pre, tiempo_vuelo, destino, tanque_externo, tanque_interno):\n",
    "    print(f\"Hora prelanzamiento= {hora_pre}\\nTiempo de vuelo= {tiempo_vuelo}\\nDestino= {destino}\\nTanque externo= {tanque_externo}\\nTanque interno= {tanque_interno}\")\n",
    "\n",
    "informe_mision('13:40', '2 days', 'moon', 80, 90)"
   ]
  },
  {
   "cell_type": "code",
   "execution_count": 9,
   "metadata": {},
   "outputs": [
    {
     "name": "stdout",
     "output_type": "stream",
     "text": [
      "Hora prelanzamiento=13:40\n",
      "Tiempo total de vuelo= 244 minutes\n",
      "Capacidad total de los tanques= 46085978\n"
     ]
    }
   ],
   "source": [
    "def mission_inform(hora_pre, *time, **tanques):\n",
    "    print(f\"Hora prelanzamiento={hora_pre}\\nTiempo total de vuelo= {sum(time)} minutes\\nCapacidad total de los tanques= {sum(tanques.values())}\")\n",
    "\n",
    "mission_inform('13:40', 43, 123, 78, externo=463533, interno=45622445)"
   ]
  },
  {
   "cell_type": "code",
   "execution_count": 11,
   "metadata": {},
   "outputs": [
    {
     "name": "stdout",
     "output_type": "stream",
     "text": [
      "Hora prelanzamiento=13:40\n",
      "Tiempo total de vuelo= 244 minutes\n",
      "Capacidad total de los tanques= 46085978\n",
      "Tanque externo= 463533 galones\n",
      "Tanque interno= 45622445 galones\n"
     ]
    }
   ],
   "source": [
    "def mission_inform(hora_pre, *time, **tanques):\n",
    "    print(f\"Hora prelanzamiento={hora_pre}\\nTiempo total de vuelo= {sum(time)} minutes\\nCapacidad total de los tanques= {sum(tanques.values())}\")\n",
    "\n",
    "    for tank, galones in tanques.items():\n",
    "        print(f\"Tanque {tank}= {galones} galones\")\n",
    "\n",
    "mission_inform('13:40', 43, 123, 78, externo=463533, interno=45622445)"
   ]
  }
 ],
 "metadata": {
  "interpreter": {
   "hash": "2f2e751d595f4060fa4c3a1865b043c203f9dc943af51265bdaa3bce2fe42830"
  },
  "kernelspec": {
   "display_name": "Python 3.10.2 64-bit (windows store)",
   "language": "python",
   "name": "python3"
  },
  "language_info": {
   "codemirror_mode": {
    "name": "ipython",
    "version": 3
   },
   "file_extension": ".py",
   "mimetype": "text/x-python",
   "name": "python",
   "nbconvert_exporter": "python",
   "pygments_lexer": "ipython3",
   "version": "3.10.2"
  },
  "orig_nbformat": 4
 },
 "nbformat": 4,
 "nbformat_minor": 2
}
